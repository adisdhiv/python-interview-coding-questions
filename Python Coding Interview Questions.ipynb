{
 "cells": [
  {
   "cell_type": "code",
   "execution_count": 1,
   "metadata": {},
   "outputs": [
    {
     "data": {
      "text/plain": [
       "120"
      ]
     },
     "execution_count": 1,
     "metadata": {},
     "output_type": "execute_result"
    }
   ],
   "source": [
    "#1 factorial of given number\n",
    "def factorial(n): \n",
    "    return 1 if (n==1 or n==0) else n * factorial(n - 1) \n",
    "\n",
    "factorial(5)"
   ]
  },
  {
   "cell_type": "code",
   "execution_count": 9,
   "metadata": {},
   "outputs": [
    {
     "name": "stdout",
     "output_type": "stream",
     "text": [
      "3\n",
      "0 1 1 2 3 "
     ]
    }
   ],
   "source": [
    "#2 Function for nth Fibonacci number and numbers upto n\n",
    "def Fibonacci(n): \n",
    "    if n<0: \n",
    "        print(\"Incorrect input\") \n",
    "    # First Fibonacci number is 0 \n",
    "    elif n==1: \n",
    "        return 0\n",
    "    # Second Fibonacci number is 1 \n",
    "    elif n==2: \n",
    "        return 1\n",
    "    else: \n",
    "        return Fibonacci(n-1)+Fibonacci(n-2) \n",
    "\n",
    "def printFibonacciNumbers(n): \n",
    "    f1 = 0\n",
    "    f2 = 1\n",
    "    print(f1, end = \" \")\n",
    "    for x in range(0, n-1): \n",
    "        print(f2, end = \" \") \n",
    "        next = f1 + f2 \n",
    "        f1, f2 = f2, next\n",
    "          \n",
    "# Driven code\n",
    "print(Fibonacci(5))\n",
    "printFibonacciNumbers(5)"
   ]
  },
  {
   "cell_type": "code",
   "execution_count": 27,
   "metadata": {},
   "outputs": [
    {
     "name": "stdout",
     "output_type": "stream",
     "text": [
      "True\n",
      "True\n",
      "False\n"
     ]
    }
   ],
   "source": [
    "#3 Armstrong number or not \n",
    "import math\n",
    "def isArmstrong (x): \n",
    "    temp = x \n",
    "    sum1 = 0\n",
    "    while (temp!=0): \n",
    "        r = temp%10\n",
    "        sum1 = sum1 + r**len(str(x))\n",
    "        temp = math.floor(temp/10)\n",
    "    # If condition satisfies \n",
    "    return (sum1 == x) \n",
    "\n",
    "print(isArmstrong(153))\n",
    "print(isArmstrong(1634))\n",
    "print(isArmstrong(150))"
   ]
  },
  {
   "cell_type": "code",
   "execution_count": 33,
   "metadata": {},
   "outputs": [
    {
     "name": "stdout",
     "output_type": "stream",
     "text": [
      "deque([4, 5, 1, 2, 3])\n",
      "[3, 4, 5, 1, 2]\n"
     ]
    }
   ],
   "source": [
    "#4 Array rotation\n",
    "from collections import deque\n",
    "d=deque([1,2,3,4,5])\n",
    "d.rotate(2)\n",
    "print(d)\n",
    "\n",
    "li=[1,2,3,4,5]\n",
    "print(li[2:]+li[:2])"
   ]
  },
  {
   "cell_type": "code",
   "execution_count": 37,
   "metadata": {},
   "outputs": [
    {
     "name": "stdout",
     "output_type": "stream",
     "text": [
      "[24, 35, 9, 56, 12]\n",
      "[24, 35, 9, 56, 12]\n",
      "[24, 35, 9, 56, 12]\n"
     ]
    }
   ],
   "source": [
    "#5 Swap function \n",
    "def swapList(newList): \n",
    "    newList[0], newList[-1] = newList[-1], newList[0] \n",
    "    return newList \n",
    "      \n",
    "# Driver code \n",
    "newList = [12, 35, 9, 56, 24] \n",
    "print(swapList(newList))\n",
    "\n",
    "def swapList1(list): \n",
    "    first = list.pop(0)    \n",
    "    last = list.pop(-1) \n",
    "    list.insert(0, last)   \n",
    "    list.append(first)    \n",
    "    return list\n",
    "newList = [12, 35, 9, 56, 24]\n",
    "print(swapList1(newList))\n",
    "\n",
    "def swapList2(list): \n",
    "    start, *middle, end = list\n",
    "    list = [end, *middle, start] \n",
    "    return list\n",
    "newList = [12, 35, 9, 56, 24]\n",
    "print(swapList2(newList))"
   ]
  },
  {
   "cell_type": "code",
   "execution_count": 45,
   "metadata": {},
   "outputs": [
    {
     "name": "stdout",
     "output_type": "stream",
     "text": [
      "99\n",
      "99\n",
      "99\n"
     ]
    }
   ],
   "source": [
    "#6 largest number in a list \n",
    "list1 = [10, 20, 4, 45, 99] \n",
    "list1.sort()\n",
    "print(list1[-1])\n",
    "print(max(list1))\n",
    "\n",
    "def myMax(list1): \n",
    "    max1 = list1[0] \n",
    "    for x in list1:\n",
    "        if x > max1 : \n",
    "             max1 = x \n",
    "    return max1\n",
    "\n",
    "print(myMax(list1))"
   ]
  },
  {
   "cell_type": "code",
   "execution_count": 46,
   "metadata": {},
   "outputs": [
    {
     "name": "stdout",
     "output_type": "stream",
     "text": [
      "45\n"
     ]
    }
   ],
   "source": [
    "#7 second largest number in a list\n",
    "\n",
    "list1 = [10, 20, 4, 45, 99]\n",
    "max1=max(list1[0],list1[1])  \n",
    "max2=min(list1[0],list1[1])  \n",
    "n =len(list1) \n",
    "for i in range(2,n):  \n",
    "    if list1[i]>max1:  \n",
    "        max2=max1 \n",
    "        max1=list1[i]  \n",
    "    elif list1[i]>max2:  \n",
    "        max2=list1[i] \n",
    "    elif max2 == max1: \n",
    "        max2=list1[i]\n",
    "        \n",
    "print(max2)"
   ]
  },
  {
   "cell_type": "code",
   "execution_count": 47,
   "metadata": {},
   "outputs": [
    {
     "name": "stdout",
     "output_type": "stream",
     "text": [
      "[21, 45, 93, 11]\n"
     ]
    }
   ],
   "source": [
    "#8 odd numbers\n",
    "list1 = [10, 21, 4, 45, 66, 93, 11] \n",
    "only_odd = [num for num in list1 if num % 2 == 1]\n",
    "print(only_odd)"
   ]
  },
  {
   "cell_type": "code",
   "execution_count": 55,
   "metadata": {},
   "outputs": [
    {
     "name": "stdout",
     "output_type": "stream",
     "text": [
      "[10, 20, 30, 40, 50, -20, 60]\n",
      "{40, 10, -20, 50, 20, 60, 30}\n"
     ]
    }
   ],
   "source": [
    "#9 Remove duplicates\n",
    "\n",
    "def Repeat(x): \n",
    "    repeated = []\n",
    "    for i in x:  \n",
    "        if i not in repeated: \n",
    "            repeated.append(i) \n",
    "    return repeated \n",
    "\n",
    "list1 = [10, 20, 30, 20, 20, 30, 40, 50, -20, 60, 60, -20, -20] \n",
    "print (Repeat(list1))\n",
    "\n",
    "print(set(list1))"
   ]
  },
  {
   "cell_type": "code",
   "execution_count": 57,
   "metadata": {},
   "outputs": [
    {
     "data": {
      "text/plain": [
       "True"
      ]
     },
     "execution_count": 57,
     "metadata": {},
     "output_type": "execute_result"
    }
   ],
   "source": [
    "#10 palindrome or not\n",
    "def isPalindrome(s): \n",
    "    return s == s[::-1]  \n",
    "s = \"malayalam\"\n",
    "isPalindrome(s) "
   ]
  },
  {
   "cell_type": "code",
   "execution_count": 64,
   "metadata": {},
   "outputs": [
    {
     "name": "stdout",
     "output_type": "stream",
     "text": [
      "True\n",
      "False\n"
     ]
    }
   ],
   "source": [
    "#11 check no special character in a list\n",
    "import re \n",
    "def run(string): \n",
    "    regex = re.compile('[@_!#$%^&*()<>?/\\|}{~:]')   \n",
    "    return regex.search(string) == None\n",
    "\n",
    "print(run(\"hello\"))\n",
    "print(run(\"hello@$@#$\"))"
   ]
  },
  {
   "cell_type": "code",
   "execution_count": 67,
   "metadata": {},
   "outputs": [
    {
     "name": "stdout",
     "output_type": "stream",
     "text": [
      "[{'name': 'Nikhil', 'age': 19}, {'name': 'Nandini', 'age': 20}, {'name': 'Manjeet', 'age': 20}]\n",
      "[{'name': 'Nandini', 'age': 20}, {'name': 'Manjeet', 'age': 20}, {'name': 'Nikhil', 'age': 19}]\n"
     ]
    }
   ],
   "source": [
    "#12 Sort values in dictinaries \n",
    "from operator import itemgetter \n",
    "lis = [{ \"name\" : \"Nandini\", \"age\" : 20},  \n",
    "{ \"name\" : \"Manjeet\", \"age\" : 20 }, \n",
    "{ \"name\" : \"Nikhil\" , \"age\" : 19 }] \n",
    "\n",
    "print(sorted(lis, key=itemgetter('age')))\n",
    "print(sorted(lis, key = lambda i: i['age'], reverse = True))"
   ]
  },
  {
   "cell_type": "code",
   "execution_count": 74,
   "metadata": {},
   "outputs": [
    {
     "name": "stdout",
     "output_type": "stream",
     "text": [
      "2\n",
      "1\n"
     ]
    }
   ],
   "source": [
    "#13 position of key in object\n",
    "import collections\n",
    "d = collections.OrderedDict((('test',{1,3}),('test2',{2}),('test3',{2,3})))\n",
    "print(list(d.keys()).index('test3'))\n",
    "\n",
    "dictionary = {'test':{1,3}, 'test2':{2}, 'test3':{2,3}}\n",
    "print(list(dictionary).index('test2'))"
   ]
  },
  {
   "cell_type": "code",
   "execution_count": 75,
   "metadata": {},
   "outputs": [
    {
     "data": {
      "text/plain": [
       "2"
      ]
     },
     "execution_count": 75,
     "metadata": {},
     "output_type": "execute_result"
    }
   ],
   "source": [
    "#14 linear search\n",
    "def search(arr, x):\n",
    "    for i in range(len(arr)):\n",
    "        if arr[i] == x:\n",
    "            return i\n",
    "    return -1\n",
    "\n",
    "search([1,2,3,4], 3)"
   ]
  },
  {
   "cell_type": "code",
   "execution_count": 76,
   "metadata": {},
   "outputs": [
    {
     "data": {
      "text/plain": [
       "2"
      ]
     },
     "execution_count": 76,
     "metadata": {},
     "output_type": "execute_result"
    }
   ],
   "source": [
    "#15 Binary Search\n",
    "def binary_search(arr, x): \n",
    "    low = 0\n",
    "    high = len(arr) - 1\n",
    "    mid = 0\n",
    "    \n",
    "    while low <= high: \n",
    "        mid = (high + low) // 2\n",
    "        if arr[mid] < x: \n",
    "            low = mid + 1\n",
    "        elif arr[mid] > x: \n",
    "            high = mid - 1\n",
    "        else: \n",
    "            return mid \n",
    "    return -1\n",
    "\n",
    "binary_search([1,2,3,4], 3)"
   ]
  },
  {
   "cell_type": "code",
   "execution_count": 77,
   "metadata": {},
   "outputs": [
    {
     "name": "stdout",
     "output_type": "stream",
     "text": [
      "Sorted array is:\n",
      "5\n",
      "6\n",
      "11\n",
      "12\n",
      "13\n"
     ]
    }
   ],
   "source": [
    "#16 Function to do insertion sort \n",
    "def insertionSort(arr): \n",
    "  \n",
    "    # Traverse through 1 to len(arr) \n",
    "    for i in range(1, len(arr)): \n",
    "  \n",
    "        key = arr[i] \n",
    "  \n",
    "        # Move elements of arr[0..i-1], that are \n",
    "        # greater than key, to one position ahead \n",
    "        # of their current position \n",
    "        j = i-1\n",
    "        while j >=0 and key < arr[j] : \n",
    "                arr[j+1] = arr[j] \n",
    "                j -= 1\n",
    "        arr[j+1] = key \n",
    "  \n",
    "  \n",
    "# Driver code to test above \n",
    "arr = [12, 11, 13, 5, 6] \n",
    "insertionSort(arr) \n",
    "print (\"Sorted array is:\") \n",
    "for i in range(len(arr)): \n",
    "    print (\"%d\" %arr[i]) "
   ]
  },
  {
   "cell_type": "code",
   "execution_count": 78,
   "metadata": {},
   "outputs": [
    {
     "name": "stdout",
     "output_type": "stream",
     "text": [
      "Sorted array is\n",
      "5\n",
      "6\n",
      "7\n",
      "11\n",
      "12\n",
      "13\n"
     ]
    }
   ],
   "source": [
    "#17 Python program for implementation of heap Sort \n",
    "  \n",
    "# To heapify subtree rooted at index i. \n",
    "# n is size of heap \n",
    "def heapify(arr, n, i): \n",
    "    largest = i  # Initialize largest as root \n",
    "    l = 2 * i + 1     # left = 2*i + 1 \n",
    "    r = 2 * i + 2     # right = 2*i + 2 \n",
    "  \n",
    "    # See if left child of root exists and is \n",
    "    # greater than root \n",
    "    if l < n and arr[i] < arr[l]: \n",
    "        largest = l \n",
    "  \n",
    "    # See if right child of root exists and is \n",
    "    # greater than root \n",
    "    if r < n and arr[largest] < arr[r]: \n",
    "        largest = r \n",
    "  \n",
    "    # Change root, if needed \n",
    "    if largest != i: \n",
    "        arr[i],arr[largest] = arr[largest],arr[i]  # swap \n",
    "  \n",
    "        # Heapify the root. \n",
    "        heapify(arr, n, largest) \n",
    "  \n",
    "# The main function to sort an array of given size \n",
    "def heapSort(arr): \n",
    "    n = len(arr) \n",
    "  \n",
    "    # Build a maxheap. \n",
    "    # Since last parent will be at ((n//2)-1) we can start at that location. \n",
    "    for i in range(n // 2 - 1, -1, -1): \n",
    "        heapify(arr, n, i) \n",
    "  \n",
    "    # One by one extract elements \n",
    "    for i in range(n-1, 0, -1): \n",
    "        arr[i], arr[0] = arr[0], arr[i]   # swap \n",
    "        heapify(arr, i, 0) \n",
    "  \n",
    "# Driver code to test above \n",
    "arr = [ 12, 11, 13, 5, 6, 7] \n",
    "heapSort(arr) \n",
    "n = len(arr) \n",
    "print (\"Sorted array is\") \n",
    "for i in range(n): \n",
    "    print (\"%d\" %arr[i])"
   ]
  },
  {
   "cell_type": "code",
   "execution_count": 79,
   "metadata": {},
   "outputs": [
    {
     "name": "stdout",
     "output_type": "stream",
     "text": [
      "Given array is\n",
      "12\n",
      "11\n",
      "13\n",
      "5\n",
      "6\n",
      "7\n",
      "\n",
      "\n",
      "Sorted array is\n",
      "5\n",
      "6\n",
      "7\n",
      "11\n",
      "12\n",
      "13\n"
     ]
    }
   ],
   "source": [
    "#18 Python program for implementation of MergeSort \n",
    "  \n",
    "# Merges two subarrays of arr[]. \n",
    "# First subarray is arr[l..m] \n",
    "# Second subarray is arr[m+1..r] \n",
    "def merge(arr, l, m, r): \n",
    "    n1 = m - l + 1\n",
    "    n2 = r- m \n",
    "  \n",
    "    # create temp arrays \n",
    "    L = [0] * (n1) \n",
    "    R = [0] * (n2) \n",
    "  \n",
    "    # Copy data to temp arrays L[] and R[] \n",
    "    for i in range(0 , n1): \n",
    "        L[i] = arr[l + i] \n",
    "  \n",
    "    for j in range(0 , n2): \n",
    "        R[j] = arr[m + 1 + j] \n",
    "  \n",
    "    # Merge the temp arrays back into arr[l..r] \n",
    "    i = 0     # Initial index of first subarray \n",
    "    j = 0     # Initial index of second subarray \n",
    "    k = l     # Initial index of merged subarray \n",
    "  \n",
    "    while i < n1 and j < n2 : \n",
    "        if L[i] <= R[j]: \n",
    "            arr[k] = L[i] \n",
    "            i += 1\n",
    "        else: \n",
    "            arr[k] = R[j] \n",
    "            j += 1\n",
    "        k += 1\n",
    "  \n",
    "    # Copy the remaining elements of L[], if there \n",
    "    # are any \n",
    "    while i < n1: \n",
    "        arr[k] = L[i] \n",
    "        i += 1\n",
    "        k += 1\n",
    "  \n",
    "    # Copy the remaining elements of R[], if there \n",
    "    # are any \n",
    "    while j < n2: \n",
    "        arr[k] = R[j] \n",
    "        j += 1\n",
    "        k += 1\n",
    "  \n",
    "# l is for left index and r is right index of the \n",
    "# sub-array of arr to be sorted \n",
    "def mergeSort(arr,l,r): \n",
    "    if l < r: \n",
    "  \n",
    "        # Same as (l+r)//2, but avoids overflow for \n",
    "        # large l and h \n",
    "        m = (l+(r-1))//2\n",
    "  \n",
    "        # Sort first and second halves \n",
    "        mergeSort(arr, l, m) \n",
    "        mergeSort(arr, m+1, r) \n",
    "        merge(arr, l, m, r) \n",
    "  \n",
    "  \n",
    "# Driver code to test above \n",
    "arr = [12, 11, 13, 5, 6, 7] \n",
    "n = len(arr) \n",
    "print (\"Given array is\") \n",
    "for i in range(n): \n",
    "    print (\"%d\" %arr[i]), \n",
    "  \n",
    "mergeSort(arr,0,n-1) \n",
    "print (\"\\n\\nSorted array is\") \n",
    "for i in range(n): \n",
    "    print (\"%d\" %arr[i])"
   ]
  },
  {
   "cell_type": "code",
   "execution_count": 80,
   "metadata": {},
   "outputs": [
    {
     "name": "stdout",
     "output_type": "stream",
     "text": [
      "Sorted array is:\n",
      "11\n",
      "12\n",
      "22\n",
      "25\n",
      "34\n",
      "64\n",
      "90\n"
     ]
    }
   ],
   "source": [
    "#19 Python program for implementation of Bubble Sort \n",
    "  \n",
    "def bubbleSort(arr): \n",
    "    n = len(arr) \n",
    "  \n",
    "    # Traverse through all array elements \n",
    "    for i in range(n-1): \n",
    "    # range(n) also work but outer loop will repeat one time more than needed. \n",
    "  \n",
    "        # Last i elements are already in place \n",
    "        for j in range(0, n-i-1): \n",
    "  \n",
    "            # traverse the array from 0 to n-i-1 \n",
    "            # Swap if the element found is greater \n",
    "            # than the next element \n",
    "            if arr[j] > arr[j+1] : \n",
    "                arr[j], arr[j+1] = arr[j+1], arr[j] \n",
    "  \n",
    "# Driver code to test above \n",
    "arr = [64, 34, 25, 12, 22, 11, 90] \n",
    "  \n",
    "bubbleSort(arr) \n",
    "  \n",
    "print (\"Sorted array is:\") \n",
    "for i in range(len(arr)): \n",
    "    print (\"%d\" %arr[i])"
   ]
  },
  {
   "cell_type": "code",
   "execution_count": 81,
   "metadata": {},
   "outputs": [
    {
     "name": "stdout",
     "output_type": "stream",
     "text": [
      "Sorted array is:\n",
      "1\n",
      "5\n",
      "7\n",
      "8\n",
      "9\n",
      "10\n"
     ]
    }
   ],
   "source": [
    "#20 Python program for implementation of Quicksort Sort \n",
    "  \n",
    "# This function takes last element as pivot, places \n",
    "# the pivot element at its correct position in sorted \n",
    "# array, and places all smaller (smaller than pivot) \n",
    "# to left of pivot and all greater elements to right \n",
    "# of pivot \n",
    "def partition(arr,low,high): \n",
    "    i = ( low-1 )         # index of smaller element \n",
    "    pivot = arr[high]     # pivot \n",
    "  \n",
    "    for j in range(low , high): \n",
    "  \n",
    "        # If current element is smaller than or \n",
    "        # equal to pivot \n",
    "        if   arr[j] <= pivot: \n",
    "          \n",
    "            # increment index of smaller element \n",
    "            i = i+1 \n",
    "            arr[i],arr[j] = arr[j],arr[i] \n",
    "  \n",
    "    arr[i+1],arr[high] = arr[high],arr[i+1] \n",
    "    return ( i+1 ) \n",
    "  \n",
    "# The main function that implements QuickSort \n",
    "# arr[] --> Array to be sorted, \n",
    "# low  --> Starting index, \n",
    "# high  --> Ending index \n",
    "  \n",
    "# Function to do Quick sort \n",
    "def quickSort(arr,low,high): \n",
    "    if low < high: \n",
    "  \n",
    "        # pi is partitioning index, arr[p] is now \n",
    "        # at right place \n",
    "        pi = partition(arr,low,high) \n",
    "  \n",
    "        # Separately sort elements before \n",
    "        # partition and after partition \n",
    "        quickSort(arr, low, pi-1) \n",
    "        quickSort(arr, pi+1, high) \n",
    "  \n",
    "# Driver code to test above \n",
    "arr = [10, 7, 8, 9, 1, 5] \n",
    "n = len(arr) \n",
    "quickSort(arr,0,n-1) \n",
    "print (\"Sorted array is:\") \n",
    "for i in range(n): \n",
    "    print (\"%d\" %arr[i])"
   ]
  },
  {
   "cell_type": "code",
   "execution_count": 12,
   "metadata": {},
   "outputs": [
    {
     "name": "stdout",
     "output_type": "stream",
     "text": [
      "{'j': 6, 'i': 3, 't': 1, 'u': 2, 'r': 2, 'w': 1, 'e': 2, 'p': 2, 'k': 1}\n",
      "6 j\n"
     ]
    }
   ],
   "source": [
    "#Using a dictionary to store the char frequency in string\n",
    "input_string = \"jjjijijtuiruweprepjk\"\n",
    "frequencies = {} \n",
    "  \n",
    "for char in input_string: \n",
    "    if char in frequencies:\n",
    "        frequencies[char] += 1\n",
    "    else:\n",
    "        frequencies[char] = 1\n",
    "print(frequencies)\n",
    "\n",
    "maxval = max(frequencies, key = frequencies.get)\n",
    "print(frequencies[maxval],maxval)"
   ]
  },
  {
   "cell_type": "code",
   "execution_count": null,
   "metadata": {},
   "outputs": [],
   "source": [
    "\n"
   ]
  },
  {
   "cell_type": "code",
   "execution_count": null,
   "metadata": {},
   "outputs": [],
   "source": []
  }
 ],
 "metadata": {
  "kernelspec": {
   "display_name": "Python 3",
   "language": "python",
   "name": "python3"
  },
  "language_info": {
   "codemirror_mode": {
    "name": "ipython",
    "version": 3
   },
   "file_extension": ".py",
   "mimetype": "text/x-python",
   "name": "python",
   "nbconvert_exporter": "python",
   "pygments_lexer": "ipython3",
   "version": "3.7.6"
  }
 },
 "nbformat": 4,
 "nbformat_minor": 4
}
